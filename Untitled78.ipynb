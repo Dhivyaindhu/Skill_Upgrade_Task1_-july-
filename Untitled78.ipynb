{
  "nbformat": 4,
  "nbformat_minor": 0,
  "metadata": {
    "colab": {
      "provenance": [],
      "authorship_tag": "ABX9TyOwX7XstmpqDoabLbWEqOZW",
      "include_colab_link": true
    },
    "kernelspec": {
      "name": "python3",
      "display_name": "Python 3"
    },
    "language_info": {
      "name": "python"
    }
  },
  "cells": [
    {
      "cell_type": "markdown",
      "metadata": {
        "id": "view-in-github",
        "colab_type": "text"
      },
      "source": [
        "<a href=\"https://colab.research.google.com/github/Dhivyaindhu/Skill_Upgrade_Task1_-july-/blob/main/Untitled78.ipynb\" target=\"_parent\"><img src=\"https://colab.research.google.com/assets/colab-badge.svg\" alt=\"Open In Colab\"/></a>"
      ]
    },
    {
      "source": [
        "import pandas as pd\n",
        "from sklearn.preprocessing import StandardScaler, LabelEncoder\n",
        "from sklearn.model_selection import train_test_split\n",
        "\n",
        "# Load your dataset\n",
        "data = pd.read_csv('/content/movies_1980_2020_30k.csv')\n",
        "\n",
        "# Handle missing values for numerical columns only\n",
        "numeric_data = data.select_dtypes(include=['number'])\n",
        "data[numeric_data.columns] = numeric_data.fillna(numeric_data.median())\n",
        "\n",
        "# Encode categorical variables\n",
        "for col in data.select_dtypes(include=['object']).columns:\n",
        "    label_encoder = LabelEncoder()\n",
        "    data[col] = label_encoder.fit_transform(data[col])\n",
        "\n",
        "# Scale features\n",
        "scaler = StandardScaler()\n",
        "data_scaled = scaler.fit_transform(data)\n",
        "data_scaled = pd.DataFrame(data_scaled, columns=data.columns)\n",
        "\n",
        "# Specify the name of your target column\n",
        "target_column = 'Rating'\n",
        "\n",
        "# Split the data into features and target\n",
        "X = data_scaled.drop(target_column, axis=1)\n",
        "y = data_scaled[target_column]\n",
        "\n",
        "# Split the data into training and testing sets\n",
        "X_train, X_test, y_train, y_test = train_test_split(X, y, test_size=0.2, random_state=42)"
      ],
      "cell_type": "code",
      "metadata": {
        "id": "SxiwFBUl8chV"
      },
      "execution_count": 26,
      "outputs": []
    },
    {
      "cell_type": "code",
      "source": [
        "import tensorflow as tf\n",
        "from tensorflow.keras.layers import Input, Dense, Lambda\n",
        "from tensorflow.keras.models import Model\n",
        "from tensorflow.keras.losses import mse\n",
        "from tensorflow.keras import backend as K\n",
        "\n",
        "# Network parameters\n",
        "input_dim = X_train.shape[1]\n",
        "latent_dim = 2  # Dimensionality of the latent space\n",
        "intermediate_dim = 64\n",
        "\n",
        "# Encoder model\n",
        "inputs = Input(shape=(input_dim,))\n",
        "h = Dense(intermediate_dim, activation='relu')(inputs)\n",
        "z_mean = Dense(latent_dim)(h)\n",
        "z_log_var = Dense(latent_dim)(h)\n",
        "\n",
        "# Sampling function\n",
        "def sampling(args):\n",
        "    z_mean, z_log_var = args\n",
        "    batch = tf.shape(z_mean)[0]\n",
        "    dim = tf.shape(z_mean)[1]\n",
        "    epsilon = tf.keras.backend.random_normal(shape=(batch, dim))\n",
        "    return z_mean + tf.exp(0.5 * z_log_var) * epsilon\n",
        "\n",
        "# Sample z\n",
        "z = Lambda(sampling, output_shape=(latent_dim,))([z_mean, z_log_var])\n",
        "\n",
        "# Decoder model\n",
        "decoder_h = Dense(intermediate_dim, activation='relu')\n",
        "decoder_mean = Dense(input_dim, activation='sigmoid')\n",
        "h_decoded = decoder_h(z)\n",
        "x_decoded_mean = decoder_mean(h_decoded)\n",
        "\n",
        "# VAE model\n",
        "vae = Model(inputs, x_decoded_mean)\n",
        "\n",
        "# Compute VAE loss\n",
        "reconstruction_loss = mse(inputs, x_decoded_mean) * input_dim\n",
        "kl_loss = - 0.5 * K.sum(1 + z_log_var - K.square(z_mean) - K.exp(z_log_var), axis=-1)\n",
        "vae_loss = K.mean(reconstruction_loss + kl_loss)\n",
        "vae.add_loss(vae_loss)\n",
        "\n",
        "# Compile the VAE\n",
        "vae.compile(optimizer='adam')\n"
      ],
      "metadata": {
        "id": "hdcp1JZE8qnA"
      },
      "execution_count": 27,
      "outputs": []
    },
    {
      "cell_type": "code",
      "source": [
        "# Train the VAE\n",
        "vae.fit(X_train, X_train, epochs=50, batch_size=32, validation_data=(X_test, X_test))\n"
      ],
      "metadata": {
        "colab": {
          "base_uri": "https://localhost:8080/"
        },
        "id": "e4yxMraR9BL5",
        "outputId": "1d9f3f3c-b733-43af-fb61-76e716c3b65b"
      },
      "execution_count": 28,
      "outputs": [
        {
          "output_type": "stream",
          "name": "stdout",
          "text": [
            "Epoch 1/50\n",
            "750/750 [==============================] - 3s 3ms/step - loss: 5.1668 - val_loss: 4.9840\n",
            "Epoch 2/50\n",
            "750/750 [==============================] - 2s 3ms/step - loss: 5.0109 - val_loss: 4.9779\n",
            "Epoch 3/50\n",
            "750/750 [==============================] - 2s 2ms/step - loss: 5.0071 - val_loss: 4.9766\n",
            "Epoch 4/50\n",
            "750/750 [==============================] - 2s 2ms/step - loss: 5.0068 - val_loss: 4.9762\n",
            "Epoch 5/50\n",
            "750/750 [==============================] - 3s 4ms/step - loss: 5.0067 - val_loss: 4.9755\n",
            "Epoch 6/50\n",
            "750/750 [==============================] - 2s 3ms/step - loss: 5.0063 - val_loss: 4.9757\n",
            "Epoch 7/50\n",
            "750/750 [==============================] - 2s 2ms/step - loss: 5.0063 - val_loss: 4.9755\n",
            "Epoch 8/50\n",
            "750/750 [==============================] - 2s 2ms/step - loss: 5.0062 - val_loss: 4.9751\n",
            "Epoch 9/50\n",
            "750/750 [==============================] - 2s 2ms/step - loss: 5.0062 - val_loss: 4.9755\n",
            "Epoch 10/50\n",
            "750/750 [==============================] - 2s 2ms/step - loss: 5.0062 - val_loss: 4.9753\n",
            "Epoch 11/50\n",
            "750/750 [==============================] - 3s 3ms/step - loss: 5.0062 - val_loss: 4.9754\n",
            "Epoch 12/50\n",
            "750/750 [==============================] - 3s 4ms/step - loss: 5.0061 - val_loss: 4.9754\n",
            "Epoch 13/50\n",
            "750/750 [==============================] - 2s 2ms/step - loss: 5.0061 - val_loss: 4.9754\n",
            "Epoch 14/50\n",
            "750/750 [==============================] - 2s 2ms/step - loss: 5.0062 - val_loss: 4.9752\n",
            "Epoch 15/50\n",
            "750/750 [==============================] - 2s 2ms/step - loss: 5.0062 - val_loss: 4.9752\n",
            "Epoch 16/50\n",
            "750/750 [==============================] - 2s 2ms/step - loss: 5.0061 - val_loss: 4.9752\n",
            "Epoch 17/50\n",
            "750/750 [==============================] - 2s 2ms/step - loss: 5.0062 - val_loss: 4.9752\n",
            "Epoch 18/50\n",
            "750/750 [==============================] - 3s 4ms/step - loss: 5.0061 - val_loss: 4.9753\n",
            "Epoch 19/50\n",
            "750/750 [==============================] - 2s 3ms/step - loss: 5.0062 - val_loss: 4.9754\n",
            "Epoch 20/50\n",
            "750/750 [==============================] - 2s 2ms/step - loss: 5.0062 - val_loss: 4.9752\n",
            "Epoch 21/50\n",
            "750/750 [==============================] - 2s 3ms/step - loss: 5.0060 - val_loss: 4.9755\n",
            "Epoch 22/50\n",
            "750/750 [==============================] - 2s 3ms/step - loss: 5.0066 - val_loss: 4.9765\n",
            "Epoch 23/50\n",
            "750/750 [==============================] - 2s 3ms/step - loss: 5.0063 - val_loss: 4.9754\n",
            "Epoch 24/50\n",
            "750/750 [==============================] - 2s 3ms/step - loss: 5.0063 - val_loss: 4.9754\n",
            "Epoch 25/50\n",
            "750/750 [==============================] - 3s 3ms/step - loss: 5.0059 - val_loss: 4.9759\n",
            "Epoch 26/50\n",
            "750/750 [==============================] - 2s 2ms/step - loss: 5.0065 - val_loss: 4.9754\n",
            "Epoch 27/50\n",
            "750/750 [==============================] - 2s 2ms/step - loss: 5.0062 - val_loss: 4.9753\n",
            "Epoch 28/50\n",
            "750/750 [==============================] - 2s 2ms/step - loss: 5.0061 - val_loss: 4.9755\n",
            "Epoch 29/50\n",
            "750/750 [==============================] - 2s 3ms/step - loss: 5.0062 - val_loss: 4.9756\n",
            "Epoch 30/50\n",
            "750/750 [==============================] - 2s 2ms/step - loss: 5.0013 - val_loss: 4.9607\n",
            "Epoch 31/50\n",
            "750/750 [==============================] - 3s 4ms/step - loss: 4.9944 - val_loss: 4.9678\n",
            "Epoch 32/50\n",
            "750/750 [==============================] - 2s 3ms/step - loss: 4.9987 - val_loss: 4.9666\n",
            "Epoch 33/50\n",
            "750/750 [==============================] - 2s 3ms/step - loss: 4.9888 - val_loss: 4.9661\n",
            "Epoch 34/50\n",
            "750/750 [==============================] - 2s 3ms/step - loss: 4.9932 - val_loss: 4.9537\n",
            "Epoch 35/50\n",
            "750/750 [==============================] - 2s 2ms/step - loss: 4.9951 - val_loss: 4.9740\n",
            "Epoch 36/50\n",
            "750/750 [==============================] - 2s 3ms/step - loss: 4.9871 - val_loss: 4.9714\n",
            "Epoch 37/50\n",
            "750/750 [==============================] - 3s 4ms/step - loss: 4.9883 - val_loss: 4.9706\n",
            "Epoch 38/50\n",
            "750/750 [==============================] - 2s 3ms/step - loss: 4.9923 - val_loss: 4.9704\n",
            "Epoch 39/50\n",
            "750/750 [==============================] - 2s 3ms/step - loss: 4.9880 - val_loss: 4.9648\n",
            "Epoch 40/50\n",
            "750/750 [==============================] - 2s 3ms/step - loss: 4.9903 - val_loss: 4.9589\n",
            "Epoch 41/50\n",
            "750/750 [==============================] - 2s 3ms/step - loss: 4.9898 - val_loss: 4.9692\n",
            "Epoch 42/50\n",
            "750/750 [==============================] - 2s 3ms/step - loss: 4.9879 - val_loss: 4.9704\n",
            "Epoch 43/50\n",
            "750/750 [==============================] - 3s 4ms/step - loss: 4.9877 - val_loss: 4.9551\n",
            "Epoch 44/50\n",
            "750/750 [==============================] - 2s 3ms/step - loss: 4.9831 - val_loss: 4.9643\n",
            "Epoch 45/50\n",
            "750/750 [==============================] - 2s 3ms/step - loss: 4.9966 - val_loss: 4.9659\n",
            "Epoch 46/50\n",
            "750/750 [==============================] - 2s 3ms/step - loss: 4.9886 - val_loss: 4.9628\n",
            "Epoch 47/50\n",
            "750/750 [==============================] - 2s 2ms/step - loss: 4.9897 - val_loss: 4.9655\n",
            "Epoch 48/50\n",
            "750/750 [==============================] - 2s 3ms/step - loss: 4.9872 - val_loss: 4.9651\n",
            "Epoch 49/50\n",
            "750/750 [==============================] - 3s 4ms/step - loss: 4.9875 - val_loss: 4.9676\n",
            "Epoch 50/50\n",
            "750/750 [==============================] - 3s 3ms/step - loss: 4.9872 - val_loss: 4.9620\n"
          ]
        },
        {
          "output_type": "execute_result",
          "data": {
            "text/plain": [
              "<keras.src.callbacks.History at 0x7879f4e44b20>"
            ]
          },
          "metadata": {},
          "execution_count": 28
        }
      ]
    },
    {
      "cell_type": "code",
      "source": [
        "# Define the decoder model\n",
        "decoder_input = Input(shape=(latent_dim,))\n",
        "_h_decoded = decoder_h(decoder_input)\n",
        "_x_decoded_mean = decoder_mean(_h_decoded)\n",
        "generator = Model(decoder_input, _x_decoded_mean)\n",
        "\n",
        "# Generate new data points\n",
        "import numpy as np\n",
        "n_samples = 100\n",
        "latent_samples = np.random.normal(size=(n_samples, latent_dim))\n",
        "generated_data = generator.predict(latent_samples)\n"
      ],
      "metadata": {
        "colab": {
          "base_uri": "https://localhost:8080/"
        },
        "id": "hpmFolFZ9oLj",
        "outputId": "4e0e8c90-a46f-475d-c063-70e1dba23e54"
      },
      "execution_count": 29,
      "outputs": [
        {
          "output_type": "stream",
          "name": "stdout",
          "text": [
            "4/4 [==============================] - 0s 3ms/step\n"
          ]
        }
      ]
    },
    {
      "cell_type": "code",
      "source": [
        "from sklearn.ensemble import RandomForestRegressor\n",
        "from sklearn.metrics import mean_absolute_error, mean_squared_error\n",
        "\n",
        "# Assuming 'generated_data' has the same feature columns as 'X'\n",
        "generated_data_df = pd.DataFrame(generated_data, columns=X.columns)\n",
        "generated_data_df[target_column] = y.sample(n_samples, replace=True).values  # Sample target values\n",
        "\n",
        "# Split generated data into training and testing sets\n",
        "X_generated = generated_data_df.drop(target_column, axis=1)\n",
        "y_generated = generated_data_df[target_column]\n",
        "X_train_gen, X_test_gen, y_train_gen, y_test_gen = train_test_split(X_generated, y_generated, test_size=0.2, random_state=42)\n",
        "\n",
        "# Train a RandomForestRegressor\n",
        "rf_model = RandomForestRegressor(n_estimators=100, random_state=42)\n",
        "rf_model.fit(X_train_gen, y_train_gen)\n",
        "\n",
        "# Evaluate the model\n",
        "y_pred_gen = rf_model.predict(X_test_gen)\n",
        "test_mae = mean_absolute_error(y_test_gen, y_pred_gen)\n",
        "test_rmse = mean_squared_error(y_test_gen, y_pred_gen, squared=False)\n",
        "\n",
        "print(f'Test MAE: {test_mae:.4f}')\n",
        "print(f'Test RMSE: {test_rmse:.4f}')\n"
      ],
      "metadata": {
        "colab": {
          "base_uri": "https://localhost:8080/"
        },
        "id": "ZW5rDai891X8",
        "outputId": "eeec9b1f-0a73-4d46-cbdf-515a261a7a33"
      },
      "execution_count": 30,
      "outputs": [
        {
          "output_type": "stream",
          "name": "stdout",
          "text": [
            "Test MAE: 0.7950\n",
            "Test RMSE: 0.9819\n"
          ]
        }
      ]
    },
    {
      "cell_type": "code",
      "source": [
        "import numpy as np\n",
        "from sklearn.metrics import accuracy_score\n",
        "\n",
        "# Round the predictions and actual values to the nearest integer\n",
        "y_test_gen_class = np.round(y_test_gen).astype(int)\n",
        "y_pred_gen_class = np.round(y_pred_gen).astype(int)\n",
        "\n",
        "# Ensure the rounded values are within a certain range\n",
        "y_test_gen_class = np.clip(y_test_gen_class, 0, 10)  # assuming ratings are between 0 and 10\n",
        "y_pred_gen_class = np.clip(y_pred_gen_class, 0, 10)\n",
        "\n",
        "# Calculate accuracy\n",
        "accuracy = accuracy_score(y_test_gen_class, y_pred_gen_class)\n",
        "\n",
        "print(f'Test Accuracy: {accuracy:.4f}')\n"
      ],
      "metadata": {
        "colab": {
          "base_uri": "https://localhost:8080/"
        },
        "id": "4KbTQp-D-EgE",
        "outputId": "97db99fe-95f5-4d8c-f02a-fba38c173009"
      },
      "execution_count": 31,
      "outputs": [
        {
          "output_type": "stream",
          "name": "stdout",
          "text": [
            "Test Accuracy: 0.6000\n"
          ]
        }
      ]
    },
    {
      "cell_type": "code",
      "source": [
        "plt.figure(figsize=(12, 6))\n",
        "plt.plot(history.history['loss'], label='Training Loss')\n",
        "plt.plot(history.history['val_loss'], label='Validation Loss')\n",
        "plt.xlabel('Epoch')\n",
        "plt.ylabel('Loss')\n",
        "plt.title('Training and Validation Loss')\n",
        "plt.legend()\n",
        "plt.grid(True)\n",
        "plt.show()\n"
      ],
      "metadata": {
        "colab": {
          "base_uri": "https://localhost:8080/",
          "height": 464
        },
        "id": "zZoWGaBwF89a",
        "outputId": "deed9506-3e24-45d3-8397-aad8eba6454d"
      },
      "execution_count": 40,
      "outputs": [
        {
          "output_type": "display_data",
          "data": {
            "text/plain": [
              "<Figure size 1200x600 with 1 Axes>"
            ],
            "image/png": "[encoded data removed]"
          },
          "metadata": {}
        }
      ]
    }
  ]
}